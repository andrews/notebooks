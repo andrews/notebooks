{
 "cells": [
  {
   "cell_type": "code",
   "execution_count": 1,
   "id": "faf3e92c",
   "metadata": {},
   "outputs": [],
   "source": [
    "# fixes some matplotlib issues i was having that was killing the kernel\n",
    "import os\n",
    "os.environ[\"KMP_DUPLICATE_LIB_OK\"]=\"TRUE\""
   ]
  },
  {
   "cell_type": "markdown",
   "id": "e609fe75",
   "metadata": {},
   "source": [
    "# Reuters Dataset\n",
    "Multiclass classification example\n",
    "\n",
    "You’ll work with the Reuters dataset, a set of short newswires and their topics, published by Reuters in 1986. There are 46 topics, with some represented more than others (unbalanced dataset), but each topic has at least 10 examples."
   ]
  },
  {
   "cell_type": "code",
   "execution_count": 2,
   "id": "4c0ac8f1",
   "metadata": {},
   "outputs": [],
   "source": [
    "from tensorflow.keras.datasets import reuters\n",
    "import tensorflow as tf\n",
    "\n",
    "import collections"
   ]
  },
  {
   "cell_type": "markdown",
   "id": "d338ed63",
   "metadata": {},
   "source": [
    "### Load data"
   ]
  },
  {
   "cell_type": "code",
   "execution_count": 3,
   "id": "1a0d4c51",
   "metadata": {},
   "outputs": [],
   "source": [
    "(train_data, train_labels), (test_data, test_labels) = reuters.load_data(num_words=10000) # 10k most frequently occurring words"
   ]
  },
  {
   "cell_type": "code",
   "execution_count": 4,
   "id": "d2723aad",
   "metadata": {},
   "outputs": [
    {
     "data": {
      "text/plain": [
       "(8982,)"
      ]
     },
     "execution_count": 4,
     "metadata": {},
     "output_type": "execute_result"
    }
   ],
   "source": [
    "train_data.shape"
   ]
  },
  {
   "cell_type": "code",
   "execution_count": 5,
   "id": "6e00de32",
   "metadata": {},
   "outputs": [
    {
     "name": "stdout",
     "output_type": "stream",
     "text": [
      "8982\n",
      "2246\n"
     ]
    }
   ],
   "source": [
    "print(len(train_data))\n",
    "print(len(test_data))"
   ]
  },
  {
   "cell_type": "code",
   "execution_count": 6,
   "id": "593a74b5",
   "metadata": {},
   "outputs": [],
   "source": [
    "# again words have been mapped to integers. samples are sequences of integers. word indices\n",
    "# train_data[0]"
   ]
  },
  {
   "cell_type": "code",
   "execution_count": 7,
   "id": "84fed2c6",
   "metadata": {},
   "outputs": [
    {
     "name": "stdout",
     "output_type": "stream",
     "text": [
      "45\n",
      "0\n"
     ]
    }
   ],
   "source": [
    "# topics\n",
    "print(max(train_labels))\n",
    "print(min(train_labels))"
   ]
  },
  {
   "cell_type": "code",
   "execution_count": 8,
   "id": "3f56d2ec",
   "metadata": {},
   "outputs": [
    {
     "data": {
      "text/plain": [
       "Counter({3: 3159,\n",
       "         4: 1949,\n",
       "         16: 444,\n",
       "         19: 549,\n",
       "         8: 139,\n",
       "         21: 100,\n",
       "         11: 390,\n",
       "         1: 432,\n",
       "         13: 172,\n",
       "         20: 269,\n",
       "         18: 66,\n",
       "         25: 92,\n",
       "         35: 10,\n",
       "         9: 101,\n",
       "         38: 19,\n",
       "         10: 124,\n",
       "         28: 48,\n",
       "         2: 74,\n",
       "         6: 48,\n",
       "         12: 49,\n",
       "         7: 16,\n",
       "         30: 45,\n",
       "         34: 50,\n",
       "         15: 20,\n",
       "         14: 26,\n",
       "         32: 32,\n",
       "         41: 30,\n",
       "         40: 36,\n",
       "         45: 18,\n",
       "         23: 41,\n",
       "         42: 13,\n",
       "         26: 24,\n",
       "         24: 62,\n",
       "         37: 19,\n",
       "         27: 15,\n",
       "         31: 39,\n",
       "         39: 24,\n",
       "         0: 55,\n",
       "         22: 15,\n",
       "         33: 11,\n",
       "         36: 49,\n",
       "         17: 39,\n",
       "         43: 21,\n",
       "         29: 19,\n",
       "         44: 12,\n",
       "         5: 17})"
      ]
     },
     "execution_count": 8,
     "metadata": {},
     "output_type": "execute_result"
    }
   ],
   "source": [
    "# counts per topic\n",
    "collections.Counter(train_labels)"
   ]
  },
  {
   "cell_type": "markdown",
   "id": "58b9dbe4",
   "metadata": {},
   "source": [
    "### Preparing data\n",
    "Encoding"
   ]
  },
  {
   "cell_type": "code",
   "execution_count": 9,
   "id": "bc369070",
   "metadata": {},
   "outputs": [],
   "source": [
    "import numpy as np"
   ]
  },
  {
   "cell_type": "code",
   "execution_count": 10,
   "id": "3cddf7c4",
   "metadata": {},
   "outputs": [],
   "source": [
    "# one-hot encoding\n",
    "def vectorize_sequences(sequences, dimension=10000):\n",
    "    results = np.zeros((len(sequences), dimension))\n",
    "    for i, sequence in enumerate(sequences):\n",
    "        results[i, sequence] = 1. # note the .\n",
    "    return results"
   ]
  },
  {
   "cell_type": "code",
   "execution_count": 11,
   "id": "69879a35",
   "metadata": {},
   "outputs": [],
   "source": [
    "x_train = vectorize_sequences(train_data)\n",
    "x_test = vectorize_sequences(test_data)"
   ]
  },
  {
   "cell_type": "code",
   "execution_count": 12,
   "id": "08cc055d",
   "metadata": {},
   "outputs": [],
   "source": [
    "# need to one-hot encode the labels\n",
    "def to_one_hot(labels, dimension=46):\n",
    "    results = np.zeros((len(labels), dimension))\n",
    "    for i, label in enumerate(labels):\n",
    "        results[i, label] = 1.\n",
    "    return results\n",
    "# this look the same as above..."
   ]
  },
  {
   "cell_type": "code",
   "execution_count": 13,
   "id": "5766d9ea",
   "metadata": {},
   "outputs": [],
   "source": [
    "one_hot_train_labels = to_one_hot(train_labels)\n",
    "one_hot_test_labels = to_one_hot(test_labels)"
   ]
  },
  {
   "cell_type": "code",
   "execution_count": 14,
   "id": "463d9d29",
   "metadata": {},
   "outputs": [],
   "source": [
    "# built in way to do this in keras. probably faster too\n",
    "from tensorflow.keras.utils import to_categorical\n",
    "\n",
    "one_hot_train_labels = to_categorical(train_labels)\n",
    "one_hot_test_labels = to_categorical(test_labels)"
   ]
  },
  {
   "cell_type": "code",
   "execution_count": 15,
   "id": "76851f94",
   "metadata": {},
   "outputs": [
    {
     "data": {
      "text/plain": [
       "array([[0., 0., 0., ..., 0., 0., 0.],\n",
       "       [0., 0., 0., ..., 0., 0., 0.],\n",
       "       [0., 0., 0., ..., 0., 0., 0.],\n",
       "       ...,\n",
       "       [0., 0., 0., ..., 0., 0., 0.],\n",
       "       [0., 0., 0., ..., 0., 0., 0.],\n",
       "       [0., 0., 0., ..., 0., 0., 0.]], dtype=float32)"
      ]
     },
     "execution_count": 15,
     "metadata": {},
     "output_type": "execute_result"
    }
   ],
   "source": [
    "one_hot_train_labels"
   ]
  },
  {
   "cell_type": "markdown",
   "id": "18633220",
   "metadata": {},
   "source": [
    "### Building the network"
   ]
  },
  {
   "cell_type": "code",
   "execution_count": 17,
   "id": "5283ed29",
   "metadata": {},
   "outputs": [],
   "source": [
    "# using more units per layer since we have more classes\n",
    "from tensorflow.keras import models\n",
    "from tensorflow.keras.layers import Dense"
   ]
  },
  {
   "cell_type": "code",
   "execution_count": 18,
   "id": "70162852",
   "metadata": {},
   "outputs": [],
   "source": [
    "model = models.Sequential() # building sequentially vs functional API\n",
    "\n",
    "model.add(Dense(64, activation='relu', input_shape=(10000,)))\n",
    "model.add(Dense(64, activation='relu'))\n",
    "model.add(Dense(46, activation='softmax')) # number of classes. 46-dim output. add to 1. Outputs a probability distribution"
   ]
  },
  {
   "cell_type": "code",
   "execution_count": 19,
   "id": "5b228ffe",
   "metadata": {},
   "outputs": [],
   "source": [
    "model.compile(\n",
    "    optimizer='rmsprop',\n",
    "    loss='categorical_crossentropy',\n",
    "    metrics=['accuracy']\n",
    ")"
   ]
  },
  {
   "cell_type": "markdown",
   "id": "4280b284",
   "metadata": {},
   "source": [
    "### Validation set"
   ]
  },
  {
   "cell_type": "code",
   "execution_count": 20,
   "id": "f19d7d2a",
   "metadata": {},
   "outputs": [],
   "source": [
    "x_val = x_train[:1000]\n",
    "partial_x_train = x_train[1000:]\n",
    "\n",
    "y_val = one_hot_train_labels[:1000]\n",
    "partial_y_train = one_hot_train_labels[1000:]"
   ]
  },
  {
   "cell_type": "code",
   "execution_count": 22,
   "id": "18de0d5d",
   "metadata": {},
   "outputs": [
    {
     "data": {
      "text/plain": [
       "(8982, 46)"
      ]
     },
     "execution_count": 22,
     "metadata": {},
     "output_type": "execute_result"
    }
   ],
   "source": [
    "one_hot_train_labels.shape"
   ]
  },
  {
   "cell_type": "markdown",
   "id": "5326e0fc",
   "metadata": {},
   "source": [
    "### Training"
   ]
  },
  {
   "cell_type": "code",
   "execution_count": 23,
   "id": "47b20673",
   "metadata": {},
   "outputs": [
    {
     "name": "stdout",
     "output_type": "stream",
     "text": [
      "Epoch 1/20\n",
      "16/16 [==============================] - 2s 59ms/step - loss: 2.6564 - accuracy: 0.5599 - val_loss: 1.7456 - val_accuracy: 0.6460\n",
      "Epoch 2/20\n",
      "16/16 [==============================] - 1s 40ms/step - loss: 1.4000 - accuracy: 0.7077 - val_loss: 1.2969 - val_accuracy: 0.7110\n",
      "Epoch 3/20\n",
      "16/16 [==============================] - 1s 47ms/step - loss: 1.0417 - accuracy: 0.7731 - val_loss: 1.1546 - val_accuracy: 0.7370\n",
      "Epoch 4/20\n",
      "16/16 [==============================] - 1s 42ms/step - loss: 0.8274 - accuracy: 0.8250 - val_loss: 1.0400 - val_accuracy: 0.7780\n",
      "Epoch 5/20\n",
      "16/16 [==============================] - 1s 74ms/step - loss: 0.6689 - accuracy: 0.8587 - val_loss: 0.9651 - val_accuracy: 0.8010\n",
      "Epoch 6/20\n",
      "16/16 [==============================] - 1s 40ms/step - loss: 0.5388 - accuracy: 0.8832 - val_loss: 0.9201 - val_accuracy: 0.8080\n",
      "Epoch 7/20\n",
      "16/16 [==============================] - 1s 40ms/step - loss: 0.4336 - accuracy: 0.9073 - val_loss: 0.8919 - val_accuracy: 0.8100\n",
      "Epoch 8/20\n",
      "16/16 [==============================] - 1s 42ms/step - loss: 0.3535 - accuracy: 0.9250 - val_loss: 0.9191 - val_accuracy: 0.8030\n",
      "Epoch 9/20\n",
      "16/16 [==============================] - 1s 62ms/step - loss: 0.2955 - accuracy: 0.9367 - val_loss: 0.8847 - val_accuracy: 0.8150\n",
      "Epoch 10/20\n",
      "16/16 [==============================] - 1s 69ms/step - loss: 0.2503 - accuracy: 0.9434 - val_loss: 0.9200 - val_accuracy: 0.8130\n",
      "Epoch 11/20\n",
      "16/16 [==============================] - 1s 61ms/step - loss: 0.2121 - accuracy: 0.9479 - val_loss: 0.9153 - val_accuracy: 0.8140\n",
      "Epoch 12/20\n",
      "16/16 [==============================] - 1s 61ms/step - loss: 0.1910 - accuracy: 0.9508 - val_loss: 0.9425 - val_accuracy: 0.8100\n",
      "Epoch 13/20\n",
      "16/16 [==============================] - 1s 53ms/step - loss: 0.1733 - accuracy: 0.9526 - val_loss: 0.9509 - val_accuracy: 0.8050\n",
      "Epoch 14/20\n",
      "16/16 [==============================] - 1s 68ms/step - loss: 0.1574 - accuracy: 0.9529 - val_loss: 0.9895 - val_accuracy: 0.8120\n",
      "Epoch 15/20\n",
      "16/16 [==============================] - 1s 71ms/step - loss: 0.1452 - accuracy: 0.9540 - val_loss: 0.9940 - val_accuracy: 0.8050\n",
      "Epoch 16/20\n",
      "16/16 [==============================] - 1s 66ms/step - loss: 0.1394 - accuracy: 0.9538 - val_loss: 1.0206 - val_accuracy: 0.8040\n",
      "Epoch 17/20\n",
      "16/16 [==============================] - 1s 68ms/step - loss: 0.1299 - accuracy: 0.9546 - val_loss: 1.0388 - val_accuracy: 0.8030\n",
      "Epoch 18/20\n",
      "16/16 [==============================] - 1s 65ms/step - loss: 0.1206 - accuracy: 0.9573 - val_loss: 1.0877 - val_accuracy: 0.7940\n",
      "Epoch 19/20\n",
      "16/16 [==============================] - 1s 67ms/step - loss: 0.1199 - accuracy: 0.9568 - val_loss: 1.0580 - val_accuracy: 0.8010\n",
      "Epoch 20/20\n",
      "16/16 [==============================] - 1s 63ms/step - loss: 0.1120 - accuracy: 0.9573 - val_loss: 1.0429 - val_accuracy: 0.8070\n"
     ]
    }
   ],
   "source": [
    "history = model.fit(\n",
    "    partial_x_train,\n",
    "    partial_y_train,\n",
    "    epochs=20,\n",
    "    batch_size=512,\n",
    "    validation_data=(x_val, y_val)\n",
    ")"
   ]
  },
  {
   "cell_type": "markdown",
   "id": "d130ce55",
   "metadata": {},
   "source": [
    "### Loss"
   ]
  },
  {
   "cell_type": "code",
   "execution_count": 24,
   "id": "e185a917",
   "metadata": {},
   "outputs": [],
   "source": [
    "import matplotlib.pyplot as plt"
   ]
  },
  {
   "cell_type": "code",
   "execution_count": 27,
   "id": "5da27c92",
   "metadata": {},
   "outputs": [
    {
     "data": {
      "text/plain": [
       "dict_keys(['loss', 'accuracy', 'val_loss', 'val_accuracy'])"
      ]
     },
     "execution_count": 27,
     "metadata": {},
     "output_type": "execute_result"
    }
   ],
   "source": [
    "history.history.keys()"
   ]
  },
  {
   "cell_type": "code",
   "execution_count": 34,
   "id": "ec0086cc",
   "metadata": {},
   "outputs": [
    {
     "data": {
      "image/png": "[encoded data removed]",
      "text/plain": [
       "<Figure size 640x480 with 1 Axes>"
      ]
     },
     "metadata": {},
     "output_type": "display_data"
    }
   ],
   "source": [
    "loss = history.history['loss']\n",
    "val_loss = history.history['val_loss']\n",
    "\n",
    "epochs = range(1, len(loss) + 1)\n",
    "\n",
    "plt.plot(epochs, loss, 'bo', label='Training loss')\n",
    "plt.plot(epochs, val_loss, 'b', label='Validation loss')\n",
    "plt.title('Training and validation loss')\n",
    "plt.xlabel('Epochs')\n",
    "plt.ylabel('Loss')\n",
    "plt.legend()\n",
    "\n",
    "plt.show()"
   ]
  },
  {
   "cell_type": "code",
   "execution_count": 35,
   "id": "88b52414",
   "metadata": {},
   "outputs": [
    {
     "data": {
      "image/png": "[encoded data removed]",
      "text/plain": [
       "<Figure size 640x480 with 1 Axes>"
      ]
     },
     "metadata": {},
     "output_type": "display_data"
    }
   ],
   "source": [
    "plt.clf()\n",
    "\n",
    "acc = history.history['accuracy']\n",
    "val_acc = history.history['val_accuracy']\n",
    "\n",
    "epochs = range(1, len(acc) + 1)\n",
    "\n",
    "plt.plot(epochs, acc, 'bo', label='Training accuracy')\n",
    "plt.plot(epochs, val_acc, 'b', label='Validation accuracy')\n",
    "plt.title('Training and validation accuracy')\n",
    "plt.xlabel('Epoch')\n",
    "plt.ylabel('Accuracy')\n",
    "plt.legend()\n",
    "\n",
    "plt.show()"
   ]
  },
  {
   "cell_type": "code",
   "execution_count": 36,
   "id": "cdd64c44",
   "metadata": {},
   "outputs": [
    {
     "name": "stdout",
     "output_type": "stream",
     "text": [
      "Epoch 1/9\n",
      "16/16 [==============================] - 2s 54ms/step - loss: 2.6921 - accuracy: 0.5189 - val_loss: 1.7637 - val_accuracy: 0.6400\n",
      "Epoch 2/9\n",
      "16/16 [==============================] - 1s 38ms/step - loss: 1.4423 - accuracy: 0.6959 - val_loss: 1.3211 - val_accuracy: 0.7140\n",
      "Epoch 3/9\n",
      "16/16 [==============================] - 1s 40ms/step - loss: 1.0595 - accuracy: 0.7731 - val_loss: 1.1450 - val_accuracy: 0.7480\n",
      "Epoch 4/9\n",
      "16/16 [==============================] - 1s 38ms/step - loss: 0.8249 - accuracy: 0.8217 - val_loss: 1.0113 - val_accuracy: 0.7820\n",
      "Epoch 5/9\n",
      "16/16 [==============================] - 1s 67ms/step - loss: 0.6564 - accuracy: 0.8618 - val_loss: 0.9499 - val_accuracy: 0.8090\n",
      "Epoch 6/9\n",
      "16/16 [==============================] - 1s 70ms/step - loss: 0.5218 - accuracy: 0.8890 - val_loss: 0.9267 - val_accuracy: 0.8050\n",
      "Epoch 7/9\n",
      "16/16 [==============================] - 1s 63ms/step - loss: 0.4242 - accuracy: 0.9079 - val_loss: 0.9009 - val_accuracy: 0.8110\n",
      "Epoch 8/9\n",
      "16/16 [==============================] - 1s 69ms/step - loss: 0.3482 - accuracy: 0.9272 - val_loss: 0.8783 - val_accuracy: 0.8190\n",
      "Epoch 9/9\n",
      "16/16 [==============================] - 1s 46ms/step - loss: 0.2865 - accuracy: 0.9386 - val_loss: 0.9061 - val_accuracy: 0.8010\n"
     ]
    },
    {
     "data": {
      "text/plain": [
       "<keras.callbacks.History at 0x29705ecc448>"
      ]
     },
     "execution_count": 36,
     "metadata": {},
     "output_type": "execute_result"
    }
   ],
   "source": [
    "# model seems to be overfitting... so we will stop training after 9 epochs, where the accuracy seems to peak\n",
    "model = models.Sequential()\n",
    "\n",
    "model.add(Dense(64, activation='relu', input_shape=(10000,)))\n",
    "model.add(Dense(64, activation='relu'))\n",
    "model.add(Dense(46, activation='softmax'))\n",
    "\n",
    "model.compile(\n",
    "    optimizer='rmsprop',\n",
    "    loss='categorical_crossentropy',\n",
    "    metrics=['accuracy']\n",
    ")\n",
    "# not taking history object here\n",
    "model.fit(\n",
    "    partial_x_train,\n",
    "    partial_y_train,\n",
    "    epochs=9,\n",
    "    batch_size=512,\n",
    "    validation_data=(x_val, y_val)\n",
    ")"
   ]
  },
  {
   "cell_type": "code",
   "execution_count": 37,
   "id": "700bdfac",
   "metadata": {},
   "outputs": [
    {
     "name": "stdout",
     "output_type": "stream",
     "text": [
      "71/71 [==============================] - 1s 14ms/step - loss: 1.0166 - accuracy: 0.7832\n"
     ]
    }
   ],
   "source": [
    "# not taking predictions, just evaluating\n",
    "results = model.evaluate(x_test, one_hot_test_labels)"
   ]
  },
  {
   "cell_type": "code",
   "execution_count": 38,
   "id": "21d57100",
   "metadata": {
    "scrolled": true
   },
   "outputs": [
    {
     "data": {
      "text/plain": [
       "[1.0166205167770386, 0.7831701040267944]"
      ]
     },
     "execution_count": 38,
     "metadata": {},
     "output_type": "execute_result"
    }
   ],
   "source": [
    "results"
   ]
  },
  {
   "cell_type": "markdown",
   "id": "3f658dd9",
   "metadata": {},
   "source": [
    "### Predictions here"
   ]
  },
  {
   "cell_type": "code",
   "execution_count": 39,
   "id": "63dfd74a",
   "metadata": {},
   "outputs": [
    {
     "name": "stdout",
     "output_type": "stream",
     "text": [
      "71/71 [==============================] - 1s 15ms/step\n"
     ]
    }
   ],
   "source": [
    "predictions = model.predict(x_test)"
   ]
  },
  {
   "cell_type": "code",
   "execution_count": 40,
   "id": "8c0b57d2",
   "metadata": {},
   "outputs": [
    {
     "data": {
      "text/plain": [
       "array([1.34774455e-05, 2.54642309e-05, 2.49335244e-06, 9.78472054e-01,\n",
       "       1.81757975e-02, 1.40900886e-06, 3.83744691e-06, 2.15709042e-06,\n",
       "       3.07870068e-04, 2.74255717e-06, 1.12851458e-05, 2.05235532e-03,\n",
       "       4.55641384e-05, 5.61307534e-05, 1.91112267e-05, 6.82235532e-06,\n",
       "       1.27987805e-04, 6.38581969e-06, 1.32929672e-05, 1.08789165e-04,\n",
       "       1.46329709e-04, 1.93366159e-05, 1.14654131e-06, 6.43599924e-05,\n",
       "       2.61097830e-06, 1.16286424e-06, 5.41130612e-06, 3.41491227e-06,\n",
       "       1.86030320e-06, 4.03405720e-05, 2.68413678e-05, 2.09098198e-05,\n",
       "       2.34771346e-06, 2.35257244e-06, 1.32666119e-05, 6.01982890e-08,\n",
       "       1.19753931e-04, 7.98274982e-07, 5.16883074e-06, 2.92455461e-05,\n",
       "       5.36981997e-06, 4.21850746e-06, 7.71117720e-06, 9.95454775e-06,\n",
       "       1.06702037e-05, 3.47657988e-07], dtype=float32)"
      ]
     },
     "execution_count": 40,
     "metadata": {},
     "output_type": "execute_result"
    }
   ],
   "source": [
    "predictions[0]"
   ]
  },
  {
   "cell_type": "code",
   "execution_count": 41,
   "id": "2a18dec4",
   "metadata": {},
   "outputs": [
    {
     "data": {
      "text/plain": [
       "(46,)"
      ]
     },
     "execution_count": 41,
     "metadata": {},
     "output_type": "execute_result"
    }
   ],
   "source": [
    "predictions[0].shape"
   ]
  },
  {
   "cell_type": "code",
   "execution_count": 42,
   "id": "de28a27d",
   "metadata": {},
   "outputs": [
    {
     "data": {
      "text/plain": [
       "1.0000000180188806"
      ]
     },
     "execution_count": 42,
     "metadata": {},
     "output_type": "execute_result"
    }
   ],
   "source": [
    "sum(predictions[0])"
   ]
  },
  {
   "cell_type": "code",
   "execution_count": 43,
   "id": "594bbf9a",
   "metadata": {},
   "outputs": [
    {
     "data": {
      "text/plain": [
       "1.0"
      ]
     },
     "execution_count": 43,
     "metadata": {},
     "output_type": "execute_result"
    }
   ],
   "source": [
    "np.sum(predictions[0])"
   ]
  },
  {
   "cell_type": "code",
   "execution_count": 44,
   "id": "bfb8b27c",
   "metadata": {},
   "outputs": [
    {
     "data": {
      "text/plain": [
       "3"
      ]
     },
     "execution_count": 44,
     "metadata": {},
     "output_type": "execute_result"
    }
   ],
   "source": [
    "# predictions\n",
    "np.argmax(predictions[0])"
   ]
  },
  {
   "cell_type": "markdown",
   "id": "86c0f21d",
   "metadata": {},
   "source": [
    "### Different way to handle the labels\n",
    "Mentioned earlier, instead of encoding them, we can just use them as integers (integer tensors). So instead of a distribution, the model will output digits. Actually, the only thing this would change is the loss function."
   ]
  },
  {
   "cell_type": "code",
   "execution_count": 53,
   "id": "d2a15003",
   "metadata": {},
   "outputs": [],
   "source": [
    "y_train_i = np.array(train_labels)[1000:]\n",
    "y_test_i = np.array(test_labels)"
   ]
  },
  {
   "cell_type": "code",
   "execution_count": 63,
   "id": "581412eb",
   "metadata": {},
   "outputs": [],
   "source": [
    "model.compile(\n",
    "    optimizer='rmsprop',\n",
    "    loss='sparse_categorical_crossentropy',\n",
    "    metrics=['acc']\n",
    ")"
   ]
  },
  {
   "cell_type": "code",
   "execution_count": 55,
   "id": "514c1504",
   "metadata": {},
   "outputs": [
    {
     "data": {
      "text/plain": [
       "(7982, 10000)"
      ]
     },
     "execution_count": 55,
     "metadata": {},
     "output_type": "execute_result"
    }
   ],
   "source": [
    "partial_x_train.shape"
   ]
  },
  {
   "cell_type": "code",
   "execution_count": 56,
   "id": "7e7ed546",
   "metadata": {},
   "outputs": [
    {
     "data": {
      "text/plain": [
       "(7982,)"
      ]
     },
     "execution_count": 56,
     "metadata": {},
     "output_type": "execute_result"
    }
   ],
   "source": [
    "y_train_i.shape"
   ]
  },
  {
   "cell_type": "code",
   "execution_count": 64,
   "id": "e0d0102b",
   "metadata": {},
   "outputs": [
    {
     "name": "stdout",
     "output_type": "stream",
     "text": [
      "Epoch 1/20\n",
      "16/16 [==============================] - 2s 60ms/step - loss: 0.1223 - acc: 0.9578\n",
      "Epoch 2/20\n",
      "16/16 [==============================] - 1s 55ms/step - loss: 0.0938 - acc: 0.9593\n",
      "Epoch 3/20\n",
      "16/16 [==============================] - 1s 57ms/step - loss: 0.0903 - acc: 0.9603\n",
      "Epoch 4/20\n",
      "16/16 [==============================] - 1s 79ms/step - loss: 0.0901 - acc: 0.9570\n",
      "Epoch 5/20\n",
      "16/16 [==============================] - 1s 61ms/step - loss: 0.0901 - acc: 0.9589\n",
      "Epoch 6/20\n",
      "16/16 [==============================] - 1s 57ms/step - loss: 0.0873 - acc: 0.9605\n",
      "Epoch 7/20\n",
      "16/16 [==============================] - 1s 59ms/step - loss: 0.0924 - acc: 0.9585\n",
      "Epoch 8/20\n",
      "16/16 [==============================] - 1s 56ms/step - loss: 0.0875 - acc: 0.9593\n",
      "Epoch 9/20\n",
      "16/16 [==============================] - 0s 22ms/step - loss: 0.0880 - acc: 0.9589\n",
      "Epoch 10/20\n",
      "16/16 [==============================] - 1s 43ms/step - loss: 0.0859 - acc: 0.9598\n",
      "Epoch 11/20\n",
      "16/16 [==============================] - 1s 60ms/step - loss: 0.0868 - acc: 0.9580\n",
      "Epoch 12/20\n",
      "16/16 [==============================] - 1s 56ms/step - loss: 0.0881 - acc: 0.9583\n",
      "Epoch 13/20\n",
      "16/16 [==============================] - 1s 59ms/step - loss: 0.0837 - acc: 0.9570\n",
      "Epoch 14/20\n",
      "16/16 [==============================] - 1s 58ms/step - loss: 0.0809 - acc: 0.9605\n",
      "Epoch 15/20\n",
      "16/16 [==============================] - 1s 77ms/step - loss: 0.0852 - acc: 0.9602\n",
      "Epoch 16/20\n",
      "16/16 [==============================] - 1s 58ms/step - loss: 0.0809 - acc: 0.9592\n",
      "Epoch 17/20\n",
      "16/16 [==============================] - 1s 58ms/step - loss: 0.0826 - acc: 0.9592\n",
      "Epoch 18/20\n",
      "16/16 [==============================] - 1s 58ms/step - loss: 0.0855 - acc: 0.9590\n",
      "Epoch 19/20\n",
      "16/16 [==============================] - 1s 59ms/step - loss: 0.0817 - acc: 0.9579\n",
      "Epoch 20/20\n",
      "16/16 [==============================] - 1s 37ms/step - loss: 0.0833 - acc: 0.9570\n"
     ]
    },
    {
     "data": {
      "text/plain": [
       "<keras.callbacks.History at 0x29744056a08>"
      ]
     },
     "execution_count": 64,
     "metadata": {},
     "output_type": "execute_result"
    }
   ],
   "source": [
    "model.fit(\n",
    "    partial_x_train,\n",
    "    y_train_i,\n",
    "    epochs=20,\n",
    "    batch_size=512\n",
    ")"
   ]
  },
  {
   "cell_type": "code",
   "execution_count": 59,
   "id": "8d43705c",
   "metadata": {},
   "outputs": [
    {
     "name": "stdout",
     "output_type": "stream",
     "text": [
      "71/71 [==============================] - 1s 16ms/step\n"
     ]
    }
   ],
   "source": [
    "predictions = model.predict(x_test)"
   ]
  },
  {
   "cell_type": "code",
   "execution_count": 65,
   "id": "4e87b857",
   "metadata": {},
   "outputs": [
    {
     "data": {
      "text/plain": [
       "(46,)"
      ]
     },
     "execution_count": 65,
     "metadata": {},
     "output_type": "execute_result"
    }
   ],
   "source": [
    "predictions[0].shape"
   ]
  },
  {
   "cell_type": "code",
   "execution_count": 66,
   "id": "af5ed22f",
   "metadata": {},
   "outputs": [
    {
     "data": {
      "text/plain": [
       "array([2.1296705e-06, 2.3365673e-07, 2.1252371e-08, 9.8763949e-01,\n",
       "       1.0786966e-02, 5.8002952e-10, 8.6898533e-10, 2.8853637e-07,\n",
       "       1.2950174e-04, 1.8153820e-07, 2.6941140e-07, 3.5980614e-04,\n",
       "       3.2849305e-06, 2.1827123e-06, 4.2799974e-07, 9.5605901e-10,\n",
       "       4.8761223e-05, 9.4784205e-08, 1.8083357e-07, 6.5444753e-04,\n",
       "       2.5133099e-04, 1.5840085e-05, 2.5650255e-09, 2.9624673e-06,\n",
       "       1.9098637e-08, 1.4148088e-08, 1.4779796e-09, 5.5241181e-08,\n",
       "       5.7534970e-07, 1.5376834e-06, 2.8097365e-06, 2.0063118e-09,\n",
       "       6.2376898e-07, 1.6364247e-08, 1.2957869e-06, 3.8623136e-09,\n",
       "       9.3273404e-05, 4.3274677e-09, 1.0781422e-06, 8.5832752e-10,\n",
       "       1.2420759e-07, 1.5986084e-08, 1.5112732e-08, 2.6345337e-08,\n",
       "       6.4021420e-11, 2.6237608e-09], dtype=float32)"
      ]
     },
     "execution_count": 66,
     "metadata": {},
     "output_type": "execute_result"
    }
   ],
   "source": [
    "predictions[0]"
   ]
  },
  {
   "cell_type": "markdown",
   "id": "08fcae7b",
   "metadata": {},
   "source": [
    "NN still has 46 layer output... hmm I guess the loss function kind of changes this so the output looks the same. Converts it somewhere in between."
   ]
  }
 ],
 "metadata": {
  "kernelspec": {
   "display_name": "Python 3 (ipykernel)",
   "language": "python",
   "name": "python3"
  },
  "language_info": {
   "codemirror_mode": {
    "name": "ipython",
    "version": 3
   },
   "file_extension": ".py",
   "mimetype": "text/x-python",
   "name": "python",
   "nbconvert_exporter": "python",
   "pygments_lexer": "ipython3",
   "version": "3.7.13"
  }
 },
 "nbformat": 4,
 "nbformat_minor": 5
}
