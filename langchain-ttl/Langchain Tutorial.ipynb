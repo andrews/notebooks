{
 "cells": [
  {
   "cell_type": "markdown",
   "id": "ee5bb199",
   "metadata": {},
   "source": [
    "# Langchain Tutorial\n",
    "Oh boy, remember how annoying it was to get it set up on windows... Let's see if it works here\n",
    "\n",
    "## Trying to use venv...\n",
    "First needed to create a virtual environment and install ipykernel. Created the virtual environment `lc-ttl` somewhere else, activated it, then ran\n",
    "\n",
    "```python -m ipykernel install --user --name=lc-ttl```"
   ]
  },
  {
   "cell_type": "code",
   "execution_count": 1,
   "id": "bc09935a",
   "metadata": {},
   "outputs": [],
   "source": [
    "# langchain\n",
    "import getpass\n",
    "import os\n",
    "\n"
   ]
  }
 ],
 "metadata": {
  "kernelspec": {
   "display_name": "lc-ttl",
   "language": "python",
   "name": "lc-ttl"
  },
  "language_info": {
   "codemirror_mode": {
    "name": "ipython",
    "version": 3
   },
   "file_extension": ".py",
   "mimetype": "text/x-python",
   "name": "python",
   "nbconvert_exporter": "python",
   "pygments_lexer": "ipython3",
   "version": "3.12.3"
  }
 },
 "nbformat": 4,
 "nbformat_minor": 5
}
