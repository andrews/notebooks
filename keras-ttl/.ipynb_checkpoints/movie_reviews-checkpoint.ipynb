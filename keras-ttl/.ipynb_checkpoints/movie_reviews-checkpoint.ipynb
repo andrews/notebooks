{
 "cells": [
  {
   "cell_type": "code",
   "execution_count": 1,
   "id": "31103a08",
   "metadata": {},
   "outputs": [],
   "source": [
    "# fixes some matplotlib issues i was having that was killing the kernel\n",
    "import os\n",
    "os.environ[\"KMP_DUPLICATE_LIB_OK\"]=\"TRUE\""
   ]
  },
  {
   "cell_type": "markdown",
   "id": "e5dc9254",
   "metadata": {},
   "source": [
    "# IMDB Binary Classification\n",
    "Classify movie reviews as positive or negative based on their text. The data has already been processed, each word converted to an integer. So instead of a sequence of words we have a sequence of integers.\n",
    "\n",
    "Contains 50,000 samples. Half for training, half for testing. Each set has 50% positive and 50% negative reviews."
   ]
  },
  {
   "cell_type": "code",
   "execution_count": 2,
   "id": "af7860e8",
   "metadata": {},
   "outputs": [],
   "source": [
    "from tensorflow.keras.datasets import imdb"
   ]
  },
  {
   "cell_type": "markdown",
   "id": "7a660e59",
   "metadata": {},
   "source": [
    "### Load data"
   ]
  },
  {
   "cell_type": "code",
   "execution_count": 3,
   "id": "e0ddf570",
   "metadata": {},
   "outputs": [],
   "source": [
    "# num_words = only keeping the top most frequently occurring words in the training data\n",
    "# Rare words are discarded\n",
    "(train_data, train_labels), (test_data, test_labels) = imdb.load_data(num_words=10000)"
   ]
  },
  {
   "cell_type": "code",
   "execution_count": 4,
   "id": "5b771225",
   "metadata": {},
   "outputs": [],
   "source": [
    "# train_data[0] # long input"
   ]
  },
  {
   "cell_type": "code",
   "execution_count": 5,
   "id": "50f85cb7",
   "metadata": {},
   "outputs": [
    {
     "data": {
      "text/plain": [
       "1"
      ]
     },
     "execution_count": 5,
     "metadata": {},
     "output_type": "execute_result"
    }
   ],
   "source": [
    "train_labels[0]"
   ]
  },
  {
   "cell_type": "code",
   "execution_count": 6,
   "id": "313d62ac",
   "metadata": {},
   "outputs": [
    {
     "data": {
      "text/plain": [
       "9999"
      ]
     },
     "execution_count": 6,
     "metadata": {},
     "output_type": "execute_result"
    }
   ],
   "source": [
    "# no word index exceeds 10,000\n",
    "max([max(sequence) for sequence in train_data])"
   ]
  },
  {
   "cell_type": "markdown",
   "id": "11f31dfe",
   "metadata": {},
   "source": [
    "The reviews can be mapped back to their original words. Look it up yourself."
   ]
  },
  {
   "cell_type": "markdown",
   "id": "9bda20f6",
   "metadata": {},
   "source": [
    "### Preparing data"
   ]
  },
  {
   "cell_type": "markdown",
   "id": "ec0265c2",
   "metadata": {},
   "source": [
    "These are lists, can't feed sequences into neural networks. Need to turn them into tensors somehow. Can either\n",
    " * Pad each list until they're all the same size, and turn them into a 2D tensor (sample, word_indices). I guess the features would be word_1, word_2, ..., word_10000. The values would be the integers, like 3, 5, 10, 435, etc.\n",
    " * One-hot encode each sample. So you still have 10,000 features but with 0s or 1s if the word exists in your sequence. How does this handle duplicate words though?\n",
    "\n",
    "The book is going with the second option."
   ]
  },
  {
   "cell_type": "code",
   "execution_count": 7,
   "id": "b672298c",
   "metadata": {},
   "outputs": [],
   "source": [
    "import numpy as np"
   ]
  },
  {
   "cell_type": "code",
   "execution_count": 8,
   "id": "a0cb980a",
   "metadata": {},
   "outputs": [],
   "source": [
    "test = np.zeros((5,10))"
   ]
  },
  {
   "cell_type": "code",
   "execution_count": 9,
   "id": "5ad1b4ae",
   "metadata": {},
   "outputs": [],
   "source": [
    "test[3,[1,4,9]] = 1"
   ]
  },
  {
   "cell_type": "code",
   "execution_count": 10,
   "id": "256c736d",
   "metadata": {},
   "outputs": [
    {
     "data": {
      "text/plain": [
       "array([[0., 0., 0., 0., 0., 0., 0., 0., 0., 0.],\n",
       "       [0., 0., 0., 0., 0., 0., 0., 0., 0., 0.],\n",
       "       [0., 0., 0., 0., 0., 0., 0., 0., 0., 0.],\n",
       "       [0., 1., 0., 0., 1., 0., 0., 0., 0., 1.],\n",
       "       [0., 0., 0., 0., 0., 0., 0., 0., 0., 0.]])"
      ]
     },
     "execution_count": 10,
     "metadata": {},
     "output_type": "execute_result"
    }
   ],
   "source": [
    "# cool. didn't know you could do this\n",
    "test"
   ]
  },
  {
   "cell_type": "code",
   "execution_count": 11,
   "id": "59952c4a",
   "metadata": {},
   "outputs": [],
   "source": [
    "# manually vectorizing sequences\n",
    "def vectorize_sequences(sequences, dimension=10000):\n",
    "    results = np.zeros((len(sequences), dimension))\n",
    "    for i, sequence in enumerate(sequences):\n",
    "        results[i, sequence] = 1 # 1. is float\n",
    "    return results"
   ]
  },
  {
   "cell_type": "code",
   "execution_count": 12,
   "id": "77348dbd",
   "metadata": {},
   "outputs": [],
   "source": [
    "x_train = vectorize_sequences(train_data)\n",
    "x_test = vectorize_sequences(test_data)"
   ]
  },
  {
   "cell_type": "code",
   "execution_count": 13,
   "id": "722189bd",
   "metadata": {},
   "outputs": [
    {
     "data": {
      "text/plain": [
       "array([[0., 1., 1., ..., 0., 0., 0.],\n",
       "       [0., 1., 1., ..., 0., 0., 0.],\n",
       "       [0., 1., 1., ..., 0., 0., 0.],\n",
       "       ...,\n",
       "       [0., 1., 1., ..., 0., 0., 0.],\n",
       "       [0., 1., 1., ..., 0., 0., 0.],\n",
       "       [0., 1., 1., ..., 0., 0., 0.]])"
      ]
     },
     "execution_count": 13,
     "metadata": {},
     "output_type": "execute_result"
    }
   ],
   "source": [
    "x_train"
   ]
  },
  {
   "cell_type": "code",
   "execution_count": 14,
   "id": "12e2c15b",
   "metadata": {},
   "outputs": [
    {
     "data": {
      "text/plain": [
       "(25000, 10000)"
      ]
     },
     "execution_count": 14,
     "metadata": {},
     "output_type": "execute_result"
    }
   ],
   "source": [
    "x_train.shape"
   ]
  },
  {
   "cell_type": "code",
   "execution_count": 15,
   "id": "e78c117e",
   "metadata": {},
   "outputs": [],
   "source": [
    "# vectorize labels\n",
    "y_train = np.asarray(train_labels).astype('float32')\n",
    "y_test = np.asarray(test_labels).astype('float32')"
   ]
  },
  {
   "cell_type": "markdown",
   "id": "0871d09a",
   "metadata": {},
   "source": [
    "### Model Definition"
   ]
  },
  {
   "cell_type": "code",
   "execution_count": 16,
   "id": "a4024c03",
   "metadata": {},
   "outputs": [],
   "source": [
    "from tensorflow.keras import models\n",
    "from tensorflow.keras import layers\n",
    "import tensorflow as tf"
   ]
  },
  {
   "cell_type": "code",
   "execution_count": 17,
   "id": "f9d4ab8b",
   "metadata": {},
   "outputs": [],
   "source": [
    "model = models.Sequential()\n",
    "model.add(layers.Dense(16, activation='relu', input_shape=(10000,)))\n",
    "model.add(layers.Dense(16, activation='relu')) # shape is implied\n",
    "model.add(layers.Dense(1, activation='sigmoid'))"
   ]
  },
  {
   "cell_type": "code",
   "execution_count": 18,
   "id": "4a08284a",
   "metadata": {},
   "outputs": [
    {
     "data": {
      "image/png": "[encoded data removed]",
      "text/plain": [
       "<IPython.core.display.Image object>"
      ]
     },
     "execution_count": 18,
     "metadata": {},
     "output_type": "execute_result"
    }
   ],
   "source": [
    "tf.keras.utils.plot_model(model, show_shapes=True, to_file='imdb_model.png')"
   ]
  },
  {
   "cell_type": "markdown",
   "id": "3650fcf4",
   "metadata": {},
   "source": [
    "### Compiling the model"
   ]
  },
  {
   "cell_type": "code",
   "execution_count": 19,
   "id": "16bf7b27",
   "metadata": {},
   "outputs": [],
   "source": [
    "model.compile(\n",
    "    optimizer='rmsprop',\n",
    "    loss='binary_crossentropy',\n",
    "    metrics=['accuracy']\n",
    ")"
   ]
  },
  {
   "cell_type": "code",
   "execution_count": 20,
   "id": "43774b02",
   "metadata": {},
   "outputs": [
    {
     "name": "stderr",
     "output_type": "stream",
     "text": [
      "C:\\Users\\asanzete\\anaconda3\\envs\\tf\\lib\\site-packages\\keras\\optimizers\\optimizer_v2\\rmsprop.py:135: UserWarning: The `lr` argument is deprecated, use `learning_rate` instead.\n",
      "  super(RMSprop, self).__init__(name, **kwargs)\n"
     ]
    }
   ],
   "source": [
    "# can also pass custom objects\n",
    "from tensorflow.keras import optimizers\n",
    "\n",
    "model.compile(\n",
    "    optimizer=optimizers.RMSprop(lr=0.001),\n",
    "    loss='binary_crossentropy',\n",
    "    metrics=['accuracy']\n",
    ")"
   ]
  },
  {
   "cell_type": "code",
   "execution_count": 21,
   "id": "99866706",
   "metadata": {},
   "outputs": [],
   "source": [
    "# and again\n",
    "from tensorflow.keras import losses, metrics\n",
    "\n",
    "model.compile(\n",
    "    optimizer=optimizers.RMSprop(learning_rate=0.001),\n",
    "    loss=losses.binary_crossentropy,\n",
    "    metrics=[metrics.binary_accuracy]\n",
    ")"
   ]
  },
  {
   "cell_type": "markdown",
   "id": "5facb420",
   "metadata": {},
   "source": [
    "### Creating a validation set"
   ]
  },
  {
   "cell_type": "code",
   "execution_count": 22,
   "id": "bb2149e5",
   "metadata": {},
   "outputs": [],
   "source": [
    "x_val = x_train[:10000]\n",
    "partial_x_train = x_train[10000:]\n",
    "y_val = y_train[:10000]\n",
    "partial_y_train = y_train[10000:]"
   ]
  },
  {
   "cell_type": "code",
   "execution_count": 23,
   "id": "b9f7516f",
   "metadata": {
    "scrolled": false
   },
   "outputs": [
    {
     "name": "stdout",
     "output_type": "stream",
     "text": [
      "Epoch 1/20\n",
      "30/30 [==============================] - 6s 160ms/step - loss: 0.5307 - binary_accuracy: 0.7828 - val_loss: 0.4250 - val_binary_accuracy: 0.8437\n",
      "Epoch 2/20\n",
      "30/30 [==============================] - 1s 45ms/step - loss: 0.3333 - binary_accuracy: 0.8976 - val_loss: 0.3207 - val_binary_accuracy: 0.8883\n",
      "Epoch 3/20\n",
      "30/30 [==============================] - 1s 41ms/step - loss: 0.2489 - binary_accuracy: 0.9212 - val_loss: 0.2878 - val_binary_accuracy: 0.8893\n",
      "Epoch 4/20\n",
      "30/30 [==============================] - 1s 47ms/step - loss: 0.1946 - binary_accuracy: 0.9379 - val_loss: 0.3113 - val_binary_accuracy: 0.8731\n",
      "Epoch 5/20\n",
      "30/30 [==============================] - 1s 39ms/step - loss: 0.1608 - binary_accuracy: 0.9472 - val_loss: 0.2738 - val_binary_accuracy: 0.8918\n",
      "Epoch 6/20\n",
      "30/30 [==============================] - 1s 28ms/step - loss: 0.1326 - binary_accuracy: 0.9597 - val_loss: 0.2897 - val_binary_accuracy: 0.8853\n",
      "Epoch 7/20\n",
      "30/30 [==============================] - 1s 30ms/step - loss: 0.1087 - binary_accuracy: 0.9674 - val_loss: 0.2971 - val_binary_accuracy: 0.8865\n",
      "Epoch 8/20\n",
      "30/30 [==============================] - 1s 29ms/step - loss: 0.0923 - binary_accuracy: 0.9735 - val_loss: 0.3322 - val_binary_accuracy: 0.8796\n",
      "Epoch 9/20\n",
      "30/30 [==============================] - 1s 28ms/step - loss: 0.0764 - binary_accuracy: 0.9784 - val_loss: 0.3414 - val_binary_accuracy: 0.8791\n",
      "Epoch 10/20\n",
      "30/30 [==============================] - 1s 26ms/step - loss: 0.0640 - binary_accuracy: 0.9825 - val_loss: 0.3658 - val_binary_accuracy: 0.8785\n",
      "Epoch 11/20\n",
      "30/30 [==============================] - 1s 31ms/step - loss: 0.0529 - binary_accuracy: 0.9872 - val_loss: 0.4056 - val_binary_accuracy: 0.8703\n",
      "Epoch 12/20\n",
      "30/30 [==============================] - 1s 33ms/step - loss: 0.0436 - binary_accuracy: 0.9899 - val_loss: 0.4096 - val_binary_accuracy: 0.8762\n",
      "Epoch 13/20\n",
      "30/30 [==============================] - 1s 30ms/step - loss: 0.0351 - binary_accuracy: 0.9925 - val_loss: 0.4391 - val_binary_accuracy: 0.8742\n",
      "Epoch 14/20\n",
      "30/30 [==============================] - 1s 43ms/step - loss: 0.0287 - binary_accuracy: 0.9941 - val_loss: 0.4859 - val_binary_accuracy: 0.8679\n",
      "Epoch 15/20\n",
      "30/30 [==============================] - 1s 35ms/step - loss: 0.0231 - binary_accuracy: 0.9964 - val_loss: 0.4989 - val_binary_accuracy: 0.8707\n",
      "Epoch 16/20\n",
      "30/30 [==============================] - 1s 28ms/step - loss: 0.0174 - binary_accuracy: 0.9981 - val_loss: 0.5401 - val_binary_accuracy: 0.8673\n",
      "Epoch 17/20\n",
      "30/30 [==============================] - 1s 28ms/step - loss: 0.0156 - binary_accuracy: 0.9975 - val_loss: 0.5659 - val_binary_accuracy: 0.8679\n",
      "Epoch 18/20\n",
      "30/30 [==============================] - 1s 27ms/step - loss: 0.0100 - binary_accuracy: 0.9992 - val_loss: 0.6032 - val_binary_accuracy: 0.8664\n",
      "Epoch 19/20\n",
      "30/30 [==============================] - 1s 29ms/step - loss: 0.0098 - binary_accuracy: 0.9987 - val_loss: 0.6352 - val_binary_accuracy: 0.8661\n",
      "Epoch 20/20\n",
      "30/30 [==============================] - 1s 27ms/step - loss: 0.0072 - binary_accuracy: 0.9994 - val_loss: 0.6685 - val_binary_accuracy: 0.8659\n"
     ]
    }
   ],
   "source": [
    "# you'll be monitoring loss and accuracy on this validation set instead of using the test set\n",
    "# 20 epochs - 20 iterations over all samples in the training tensors\n",
    "# in mini-batches of 512 samples\n",
    "history = model.fit(\n",
    "    partial_x_train,\n",
    "    partial_y_train,\n",
    "    epochs=20,\n",
    "    batch_size=512,\n",
    "    validation_data=(x_val, y_val)\n",
    ")"
   ]
  },
  {
   "cell_type": "markdown",
   "id": "9db387c0",
   "metadata": {},
   "source": [
    "### What happened during training?"
   ]
  },
  {
   "cell_type": "code",
   "execution_count": 24,
   "id": "3356d3f6",
   "metadata": {},
   "outputs": [
    {
     "data": {
      "text/plain": [
       "dict_keys(['loss', 'binary_accuracy', 'val_loss', 'val_binary_accuracy'])"
      ]
     },
     "execution_count": 24,
     "metadata": {},
     "output_type": "execute_result"
    }
   ],
   "source": [
    "# everything that has happened during training\n",
    "history_dict = history.history\n",
    "history_dict.keys()"
   ]
  },
  {
   "cell_type": "code",
   "execution_count": 25,
   "id": "28fa4f03",
   "metadata": {},
   "outputs": [],
   "source": [
    "import matplotlib.pyplot as plt"
   ]
  },
  {
   "cell_type": "code",
   "execution_count": 26,
   "id": "fc499eb2",
   "metadata": {},
   "outputs": [],
   "source": [
    "acc = history_dict['binary_accuracy']\n",
    "loss_values = history_dict['loss']\n",
    "val_loss_values = history_dict['val_loss']\n",
    "\n",
    "epochs = range(1, len(acc) + 1)"
   ]
  },
  {
   "cell_type": "code",
   "execution_count": 29,
   "id": "ab95426e",
   "metadata": {},
   "outputs": [
    {
     "data": {
      "image/png": "[encoded data removed]",
      "text/plain": [
       "<Figure size 640x480 with 1 Axes>"
      ]
     },
     "metadata": {},
     "output_type": "display_data"
    }
   ],
   "source": [
    "plt.plot(epochs, loss_values, 'bo', label='Training loss')\n",
    "plt.plot(epochs, val_loss_values, 'b', label='Validation loss')\n",
    "plt.title('Training and validation loss')\n",
    "plt.xlabel('Epochs')\n",
    "plt.ylabel('Loss')\n",
    "plt.legend()\n",
    "\n",
    "plt.show()"
   ]
  },
  {
   "cell_type": "code",
   "execution_count": 30,
   "id": "82d5bb0d",
   "metadata": {},
   "outputs": [
    {
     "data": {
      "text/plain": [
       "<Figure size 640x480 with 0 Axes>"
      ]
     },
     "metadata": {},
     "output_type": "display_data"
    }
   ],
   "source": [
    "plt.clf() # clears the figure\n",
    "acc_values = history_dict['binary_accuracy']\n",
    "val_acc_values = history_dict['val_binary_accuracy']"
   ]
  },
  {
   "cell_type": "code",
   "execution_count": 32,
   "id": "36c64f8f",
   "metadata": {},
   "outputs": [
    {
     "data": {
      "image/png": "[encoded data removed]",
      "text/plain": [
       "<Figure size 640x480 with 1 Axes>"
      ]
     },
     "metadata": {},
     "output_type": "display_data"
    }
   ],
   "source": [
    "plt.plot(epochs, acc_values, 'bo', label='Training acc')\n",
    "plt.plot(epochs, val_acc_values, 'b', label='Validation acc')\n",
    "plt.title('Training and validation')\n",
    "plt.xlabel('Epochs')\n",
    "plt.ylabel('Loss')\n",
    "plt.legend()\n",
    "\n",
    "plt.show()"
   ]
  },
  {
   "cell_type": "markdown",
   "id": "382af22a",
   "metadata": {},
   "source": [
    "Seems like these are overfitting... Why does the validation loss increase and accuracy decrease? Training accuracy is almost 1.\n",
    "\n",
    "Seems to peak at the 5th epoch, so we'll stop training there."
   ]
  },
  {
   "cell_type": "markdown",
   "id": "9a0dd7c9",
   "metadata": {},
   "source": [
    "### Retraining this model from scratch"
   ]
  },
  {
   "cell_type": "code",
   "execution_count": 33,
   "id": "d0a4849d",
   "metadata": {},
   "outputs": [
    {
     "name": "stdout",
     "output_type": "stream",
     "text": [
      "Epoch 1/5\n",
      "49/49 [==============================] - 2s 18ms/step - loss: 0.4794 - accuracy: 0.8213\n",
      "Epoch 2/5\n",
      "49/49 [==============================] - 1s 23ms/step - loss: 0.2723 - accuracy: 0.9061\n",
      "Epoch 3/5\n",
      "49/49 [==============================] - 1s 15ms/step - loss: 0.2063 - accuracy: 0.9255\n",
      "Epoch 4/5\n",
      "49/49 [==============================] - 1s 16ms/step - loss: 0.1710 - accuracy: 0.9394\n",
      "Epoch 5/5\n",
      "49/49 [==============================] - 1s 17ms/step - loss: 0.1462 - accuracy: 0.9492\n",
      "782/782 [==============================] - 4s 5ms/step - loss: 0.3134 - accuracy: 0.8806\n"
     ]
    }
   ],
   "source": [
    "model = models.Sequential()\n",
    "model.add(layers.Dense(16, activation='relu', input_shape=(10000,)))\n",
    "model.add(layers.Dense(16, activation='relu'))\n",
    "model.add(layers.Dense(1, activation='sigmoid'))\n",
    "\n",
    "model.compile(\n",
    "    optimizer='rmsprop',\n",
    "    loss='binary_crossentropy',\n",
    "    metrics=['accuracy']\n",
    ")\n",
    "\n",
    "model.fit(x_train, y_train, epochs=5, batch_size=512)\n",
    "results = model.evaluate(x_test, y_test)"
   ]
  },
  {
   "cell_type": "code",
   "execution_count": 34,
   "id": "09062767",
   "metadata": {},
   "outputs": [
    {
     "data": {
      "text/plain": [
       "[0.313429594039917, 0.8805999755859375]"
      ]
     },
     "execution_count": 34,
     "metadata": {},
     "output_type": "execute_result"
    }
   ],
   "source": [
    "# not bad\n",
    "results"
   ]
  },
  {
   "cell_type": "markdown",
   "id": "9fa4db39",
   "metadata": {},
   "source": [
    "### Predicting on new data"
   ]
  },
  {
   "cell_type": "code",
   "execution_count": 35,
   "id": "a6c66264",
   "metadata": {},
   "outputs": [
    {
     "name": "stdout",
     "output_type": "stream",
     "text": [
      "782/782 [==============================] - 10s 12ms/step\n"
     ]
    },
    {
     "data": {
      "text/plain": [
       "array([[0.20145477],\n",
       "       [0.9999792 ],\n",
       "       [0.95985067],\n",
       "       ...,\n",
       "       [0.133906  ],\n",
       "       [0.07463977],\n",
       "       [0.78446925]], dtype=float32)"
      ]
     },
     "execution_count": 35,
     "metadata": {},
     "output_type": "execute_result"
    }
   ],
   "source": [
    "model.predict(x_test)"
   ]
  },
  {
   "cell_type": "markdown",
   "id": "2df344f7",
   "metadata": {},
   "source": [
    "## Further experiments\n",
    " * What affect does more hidden layers have on the validation and test accuracy?\n",
    " * Using more hidden units\n",
    " * Try using ``mse`` instead of ``binary_crossentropy``\n",
    " * Try using the ``tanh`` activation (an old activation that used to be popular) instead of ``relu``\n",
    " \n",
    "These will more or less convince you that the architecture choices you've made are reasonable."
   ]
  }
 ],
 "metadata": {
  "kernelspec": {
   "display_name": "Python 3 (ipykernel)",
   "language": "python",
   "name": "python3"
  },
  "language_info": {
   "codemirror_mode": {
    "name": "ipython",
    "version": 3
   },
   "file_extension": ".py",
   "mimetype": "text/x-python",
   "name": "python",
   "nbconvert_exporter": "python",
   "pygments_lexer": "ipython3",
   "version": "3.7.13"
  }
 },
 "nbformat": 4,
 "nbformat_minor": 5
}
